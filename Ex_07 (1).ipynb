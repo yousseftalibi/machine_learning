{
  "cells": [
    {
      "cell_type": "markdown",
      "id": "9457fdc4-1690-4c41-8e88-1597fc2a687c",
      "metadata": {
        "id": "9457fdc4-1690-4c41-8e88-1597fc2a687c"
      },
      "source": [
        " # MPA-MLF, Lab 7 - Convolutional Neural Network"
      ]
    },
    {
      "cell_type": "markdown",
      "id": "ffa6be62-ed89-4801-b297-f1a1211ce297",
      "metadata": {
        "id": "ffa6be62-ed89-4801-b297-f1a1211ce297"
      },
      "source": [
        "## Exercise - Hand-written digits recognition"
      ]
    },
    {
      "cell_type": "markdown",
      "id": "89808395-7ffe-4df1-91e5-f31ce090b932",
      "metadata": {
        "id": "89808395-7ffe-4df1-91e5-f31ce090b932"
      },
      "source": [
        "Create CNN which will process and recognize handwritten digits. For this purposes please use the MNIST database (Modified National Institute of Standards and Technology database) which is a large database of handwritten digits that is commonly used for training various image processing systems.\n",
        "\n",
        "The datasample of the MNIST datasets can be see in the following picture"
      ]
    },
    {
      "cell_type": "markdown",
      "id": "0c65f181-d971-4f0e-ba63-17c242a65d6c",
      "metadata": {
        "id": "0c65f181-d971-4f0e-ba63-17c242a65d6c"
      },
      "source": [
        "### Task description"
      ]
    },
    {
      "cell_type": "markdown",
      "id": "1b6b04cf-eeec-404a-824b-f9aa1d3b7d7a",
      "metadata": {
        "id": "1b6b04cf-eeec-404a-824b-f9aa1d3b7d7a"
      },
      "source": [
        "In the terms of machine learning, the Hand-written digits recognition can be threated as a multi-class classification problem. This is very important knowledge to structure our model in the correct way (Especially the output-layer, including the number of neurons and activations function and the overall loss function and classification metrics)"
      ]
    },
    {
      "cell_type": "markdown",
      "id": "b724de14-3931-4983-b443-7e0106d190dc",
      "metadata": {
        "id": "b724de14-3931-4983-b443-7e0106d190dc"
      },
      "source": [
        "### 0. Import libraries"
      ]
    },
    {
      "cell_type": "markdown",
      "id": "1ffd9b11-f9c1-4b3f-8dd1-cbb18487a075",
      "metadata": {
        "id": "1ffd9b11-f9c1-4b3f-8dd1-cbb18487a075"
      },
      "source": [
        "Import the all necessary libraries, you can get inspired by the previous exercises. You can improst the libraries gradually, when do you progressing with the task"
      ]
    },
    {
      "cell_type": "code",
      "execution_count": 70,
      "id": "1f692dd4-0262-4e7a-b029-69d8280f14d2",
      "metadata": {
        "id": "1f692dd4-0262-4e7a-b029-69d8280f14d2"
      },
      "outputs": [],
      "source": [
        "from tensorflow import keras\n",
        "from keras.models import Sequential\n",
        "from keras.datasets import mnist\n",
        "import numpy as np\n",
        "import matplotlib\n",
        "import matplotlib.pyplot as plt\n",
        "from keras.utils import to_categorical\n",
        "from keras.layers import Conv2D, MaxPooling2D, Flatten, Dense\n",
        "from keras.optimizers import Adam\n",
        "from sklearn.metrics import accuracy_score, confusion_matrix, classification_report\n",
        "\n",
        "\n",
        "font = {'weight' : 'bold',\n",
        "        'size'   : 12}\n",
        "\n",
        "matplotlib.rc('font', **font)"
      ]
    },
    {
      "cell_type": "markdown",
      "id": "9c4af957-fee1-4806-9d68-797d74c332df",
      "metadata": {
        "id": "9c4af957-fee1-4806-9d68-797d74c332df"
      },
      "source": [
        "### 1. Dataset"
      ]
    },
    {
      "cell_type": "markdown",
      "id": "33cf2443-c2ed-4aaa-9b10-fa598a4fb6cb",
      "metadata": {
        "id": "33cf2443-c2ed-4aaa-9b10-fa598a4fb6cb"
      },
      "source": [
        "#### 1.1 Load Dataset"
      ]
    },
    {
      "cell_type": "markdown",
      "id": "dd860d81-ab4d-48d2-a071-e0e8aec8000f",
      "metadata": {
        "id": "dd860d81-ab4d-48d2-a071-e0e8aec8000f"
      },
      "source": [
        "You can load the dataset using the following code"
      ]
    },
    {
      "cell_type": "code",
      "execution_count": 71,
      "id": "1b6f52dc-788b-4481-95f2-c4de31cae037",
      "metadata": {
        "id": "1b6f52dc-788b-4481-95f2-c4de31cae037"
      },
      "outputs": [],
      "source": [
        "(X_train, y_train), (X_test, y_test) = mnist.load_data()"
      ]
    },
    {
      "cell_type": "markdown",
      "id": "853727ee-5836-4345-84dd-b0135b33e6d3",
      "metadata": {
        "id": "853727ee-5836-4345-84dd-b0135b33e6d3"
      },
      "source": [
        "#### 1.2 Dataset examination"
      ]
    },
    {
      "cell_type": "markdown",
      "id": "93e9f48e-3192-494a-9b0f-e2f66a7c286e",
      "metadata": {
        "id": "93e9f48e-3192-494a-9b0f-e2f66a7c286e"
      },
      "source": [
        "Using the following code, display random images,"
      ]
    },
    {
      "cell_type": "code",
      "execution_count": 72,
      "id": "522d7c5e-f50b-46d0-b79d-799d40ff2f1e",
      "metadata": {
        "id": "522d7c5e-f50b-46d0-b79d-799d40ff2f1e"
      },
      "outputs": [],
      "source": [
        "def display_random_images(x_data: np.array, y_data: np.array, count: int = 10) -> None:\n",
        "  index = np.array(len(x_data))\n",
        "  selected_ind = np.random.choice(index, count)\n",
        "\n",
        "  selected_img = x_data[selected_ind]\n",
        "  selected_labels = y_data[selected_ind]\n",
        "  concat_img = np.concatenate(selected_img, axis=1)\n",
        "\n",
        "  plt.figure(figsize=(20,10))\n",
        "  plt.imshow(concat_img, cmap=\"gray\")\n",
        "\n",
        "  for id_label, label in enumerate(selected_labels):\n",
        "    plt.text(14 + 28*id_label, 28*(5/4), label)\n",
        "  plt.axis('off')\n",
        "  plt.show()"
      ]
    },
    {
      "cell_type": "code",
      "execution_count": 73,
      "id": "452ea9c5-8438-4b10-8a0e-ef0e418ba5a0",
      "metadata": {
        "colab": {
          "base_uri": "https://localhost:8080/",
          "height": 307
        },
        "id": "452ea9c5-8438-4b10-8a0e-ef0e418ba5a0",
        "outputId": "0f571c1f-2592-4ccf-fa41-4bf4d44c152d"
      },
      "outputs": [
        {
          "data": {
            "image/png": "[encoded data removed]",
            "text/plain": [
              "<Figure size 2000x1000 with 1 Axes>"
            ]
          },
          "metadata": {},
          "output_type": "display_data"
        },
        {
          "name": "stdout",
          "output_type": "stream",
          "text": [
            "(60000, 28, 28)\n",
            "(10000, 28, 28)\n"
          ]
        },
        {
          "data": {
            "application/vnd.google.colaboratory.intrinsic+json": {
              "type": "string"
            },
            "text/plain": [
              "'\\nthe dataset has images of numbers from 0 to 9\\nwe have 60,000 images in the training dataset and 10,000 in the test dataset\\nthe images are grayscale so we only have 1 channel\\nthe size of the input images is 28 x 28 pixels\\nthe pixels values range from 0 to 255, we need to scale these value to range from 0 to 1, we can do this by dividing by 255. \\nwe will hot encode the labels y_train\\n'"
            ]
          },
          "execution_count": 73,
          "metadata": {},
          "output_type": "execute_result"
        }
      ],
      "source": [
        "display_random_images(X_train, y_train)\n",
        "\n",
        "\n",
        "print(X_train.shape)\n",
        "print(X_test.shape)\n",
        "\n",
        "'''\n",
        "the dataset has images of numbers from 0 to 9\n",
        "we have 60,000 images in the training dataset and 10,000 in the test dataset\n",
        "the images are grayscale so we only have 1 channel\n",
        "the size of the input images is 28 x 28 pixels\n",
        "the pixels values range from 0 to 255, we need to scale these value to range from 0 to 1, we can do this by dividing by 255.\n",
        "we will hot encode the labels y_train\n",
        "'''\n",
        "\n"
      ]
    },
    {
      "cell_type": "markdown",
      "id": "lHSNrLHf_szC",
      "metadata": {
        "id": "lHSNrLHf_szC"
      },
      "source": []
    },
    {
      "cell_type": "markdown",
      "id": "6c0e3651-3921-4485-bdae-3731afcf03a2",
      "metadata": {
        "id": "6c0e3651-3921-4485-bdae-3731afcf03a2"
      },
      "source": [
        "Examine the dataset. Answer for yourself the following questions:\n",
        "\n",
        "- What kind of data occurs in our dataset?\n",
        "the dataset has images of numbers from 0 to 9\n",
        "\n",
        "- How many data samples do we have in train and test datasets?\n",
        "we have 60,000 images in the training dataset and 10,000 in the test dataset\n",
        "\n",
        "- How many colour channels does the input variable have?\n",
        "the images are grayscale so we only have 1 channel\n",
        "\n",
        "- What is the size of the input images?\n",
        "the size of the input images is 28 x 28 pixels\n",
        "\n",
        "- What is the necessary preprocessing of the input data X? the pixels values range from 0 to 255, we need to scale these value to range from 0 to 1, we can do this by dividing by 255.\n",
        "\n",
        "- How many classes do we have in target varoable? There are 10 classes, one for each digit 0 through 9.\n",
        "\n",
        "\n",
        "- What is the necessary preprocessing of target variable y? we will hot encode the labels y_train\n"
      ]
    },
    {
      "cell_type": "markdown",
      "id": "08273dd4-05d0-4cd8-b989-eca8a4d1328a",
      "metadata": {
        "id": "08273dd4-05d0-4cd8-b989-eca8a4d1328a"
      },
      "source": [
        "#### 1.3 Dataset preprocessing"
      ]
    },
    {
      "cell_type": "markdown",
      "id": "2c16ee55-312f-4ee5-86cd-e09426e16e82",
      "metadata": {
        "id": "2c16ee55-312f-4ee5-86cd-e09426e16e82"
      },
      "source": [
        "Perform the necessary data preprocessing. The best way to preprocess the data would be one hot encoding for the target variable and normalization for the input variable (using min-max or z-score normalization)"
      ]
    },
    {
      "cell_type": "code",
      "execution_count": 74,
      "id": "e07697fb-0feb-4df1-8ed2-b7b20f0c015f",
      "metadata": {
        "id": "e07697fb-0feb-4df1-8ed2-b7b20f0c015f"
      },
      "outputs": [],
      "source": [
        "X_train_scaled = X_train.astype(np.float32) / 255\n",
        "y_train_encoded = to_categorical(y_train, num_classes=10)\n"
      ]
    },
    {
      "cell_type": "markdown",
      "id": "d20d5fef-cbca-48a2-844f-c9638f0b6bf9",
      "metadata": {
        "id": "d20d5fef-cbca-48a2-844f-c9638f0b6bf9"
      },
      "source": [
        "### 2. Build the model"
      ]
    },
    {
      "cell_type": "markdown",
      "id": "ea554fcf-7acd-4453-b18d-b4982f6a10eb",
      "metadata": {
        "id": "ea554fcf-7acd-4453-b18d-b4982f6a10eb"
      },
      "source": [
        "In this section, your task will be to define the model architecture. The intial structure can be defined as follows:\n",
        "\n",
        "Input_layer -> Convolutional_layer(kernel_size=(3,3), no_channels=32) -> Maxpooling_layer(kernel_size=(2, 2)) -> Flatten_layer -> Dense_layer (num_classes)\n",
        "    \n",
        "    \n"
      ]
    },
    {
      "cell_type": "markdown",
      "id": "0ffd3896-079e-4758-9579-387f33af9691",
      "metadata": {
        "id": "0ffd3896-079e-4758-9579-387f33af9691"
      },
      "source": [
        "#### 2.1 Define the model structure"
      ]
    },
    {
      "cell_type": "code",
      "execution_count": 75,
      "id": "77238bdf-ad74-4246-920d-a1dc28564306",
      "metadata": {
        "id": "77238bdf-ad74-4246-920d-a1dc28564306"
      },
      "outputs": [],
      "source": [
        "model = Sequential([\n",
        "    Conv2D(64, kernel_size=(5, 5), activation='relu', input_shape=(28, 28, 1)),\n",
        "    MaxPooling2D(pool_size=(2, 2)),\n",
        "    Flatten(),\n",
        "    Dense(10, activation='softmax')\n",
        "])\n",
        "\n",
        "\n"
      ]
    },
    {
      "cell_type": "markdown",
      "id": "fde4b3eb-90e1-4724-89df-0db1872560d4",
      "metadata": {
        "id": "fde4b3eb-90e1-4724-89df-0db1872560d4"
      },
      "source": [
        "#### 2.2 Compile the model"
      ]
    },
    {
      "cell_type": "markdown",
      "id": "a467f8fb-8bfc-4cd4-9eee-820c1b9b5a52",
      "metadata": {
        "id": "a467f8fb-8bfc-4cd4-9eee-820c1b9b5a52"
      },
      "source": [
        "Build the model, use the relevant metrics, optimizer and loss function. While choosing the metrics and loss function, consider fact that we are are trying to solve the multiclass classification problem"
      ]
    },
    {
      "cell_type": "code",
      "execution_count": 76,
      "id": "e6d1a924-9e2f-4ca2-b4d6-4724f51ae065",
      "metadata": {
        "colab": {
          "base_uri": "https://localhost:8080/"
        },
        "id": "e6d1a924-9e2f-4ca2-b4d6-4724f51ae065",
        "outputId": "ca429135-1f35-4a47-a526-c155daba0dba"
      },
      "outputs": [
        {
          "name": "stdout",
          "output_type": "stream",
          "text": [
            "Model: \"sequential_13\"\n",
            "_________________________________________________________________\n",
            " Layer (type)                Output Shape              Param #   \n",
            "=================================================================\n",
            " conv2d_5 (Conv2D)           (None, 24, 24, 64)        1664      \n",
            "                                                                 \n",
            " max_pooling2d_4 (MaxPoolin  (None, 12, 12, 64)        0         \n",
            " g2D)                                                            \n",
            "                                                                 \n",
            " flatten_4 (Flatten)         (None, 9216)              0         \n",
            "                                                                 \n",
            " dense_3 (Dense)             (None, 10)                92170     \n",
            "                                                                 \n",
            "=================================================================\n",
            "Total params: 93834 (366.54 KB)\n",
            "Trainable params: 93834 (366.54 KB)\n",
            "Non-trainable params: 0 (0.00 Byte)\n",
            "_________________________________________________________________\n"
          ]
        }
      ],
      "source": [
        "\n",
        "loss = 'categorical_crossentropy'\n",
        "optimizer = Adam\n",
        "metrics = ['accuracy']\n",
        "learning_rate = 0.001\n",
        "\n",
        "\n",
        "model.compile(loss=loss,\n",
        "              optimizer=optimizer(learning_rate=learning_rate),\n",
        "              metrics=metrics)\n",
        "\n",
        "model.summary()"
      ]
    },
    {
      "cell_type": "markdown",
      "id": "f146b70f-2e8c-484f-abfd-6fc4a8b8177b",
      "metadata": {
        "id": "f146b70f-2e8c-484f-abfd-6fc4a8b8177b"
      },
      "source": [
        "### 3. Training stage"
      ]
    },
    {
      "cell_type": "markdown",
      "id": "cb1de787-9e40-47e2-bc54-44ccd1864357",
      "metadata": {
        "id": "cb1de787-9e40-47e2-bc54-44ccd1864357"
      },
      "source": [
        "#### 3.1 Model training"
      ]
    },
    {
      "cell_type": "markdown",
      "id": "2b9c7722-aed7-4b2d-a292-572921f0734b",
      "metadata": {
        "id": "2b9c7722-aed7-4b2d-a292-572921f0734b"
      },
      "source": [
        "train your model, define the relevant hyperparameters (no. epochs, batch_size), use 20p of the training data for validation"
      ]
    },
    {
      "cell_type": "code",
      "execution_count": 77,
      "id": "4f858566-601d-4873-ad02-a0635bd8f526",
      "metadata": {
        "colab": {
          "base_uri": "https://localhost:8080/"
        },
        "id": "4f858566-601d-4873-ad02-a0635bd8f526",
        "outputId": "73991048-4908-4982-999f-7fbb5103b0e0"
      },
      "outputs": [
        {
          "name": "stdout",
          "output_type": "stream",
          "text": [
            "Epoch 1/20\n",
            "375/375 [==============================] - 3s 5ms/step - loss: 0.2898 - accuracy: 0.9186 - val_loss: 0.1140 - val_accuracy: 0.9688\n",
            "Epoch 2/20\n",
            "375/375 [==============================] - 2s 5ms/step - loss: 0.0888 - accuracy: 0.9743 - val_loss: 0.0807 - val_accuracy: 0.9752\n",
            "Epoch 3/20\n",
            "375/375 [==============================] - 2s 5ms/step - loss: 0.0625 - accuracy: 0.9820 - val_loss: 0.0593 - val_accuracy: 0.9823\n",
            "Epoch 4/20\n",
            "375/375 [==============================] - 2s 4ms/step - loss: 0.0490 - accuracy: 0.9852 - val_loss: 0.0568 - val_accuracy: 0.9828\n",
            "Epoch 5/20\n",
            "375/375 [==============================] - 2s 4ms/step - loss: 0.0415 - accuracy: 0.9879 - val_loss: 0.0537 - val_accuracy: 0.9846\n",
            "Epoch 6/20\n",
            "375/375 [==============================] - 2s 4ms/step - loss: 0.0355 - accuracy: 0.9895 - val_loss: 0.0554 - val_accuracy: 0.9840\n",
            "Epoch 7/20\n",
            "375/375 [==============================] - 1s 4ms/step - loss: 0.0308 - accuracy: 0.9906 - val_loss: 0.0536 - val_accuracy: 0.9842\n",
            "Epoch 8/20\n",
            "375/375 [==============================] - 2s 4ms/step - loss: 0.0257 - accuracy: 0.9925 - val_loss: 0.0580 - val_accuracy: 0.9836\n",
            "Epoch 9/20\n",
            "375/375 [==============================] - 2s 4ms/step - loss: 0.0242 - accuracy: 0.9926 - val_loss: 0.0563 - val_accuracy: 0.9845\n",
            "Epoch 10/20\n",
            "375/375 [==============================] - 2s 5ms/step - loss: 0.0202 - accuracy: 0.9940 - val_loss: 0.0513 - val_accuracy: 0.9862\n",
            "Epoch 11/20\n",
            "375/375 [==============================] - 2s 4ms/step - loss: 0.0172 - accuracy: 0.9947 - val_loss: 0.0503 - val_accuracy: 0.9852\n",
            "Epoch 12/20\n",
            "375/375 [==============================] - 1s 4ms/step - loss: 0.0156 - accuracy: 0.9953 - val_loss: 0.0516 - val_accuracy: 0.9854\n",
            "Epoch 13/20\n",
            "375/375 [==============================] - 2s 4ms/step - loss: 0.0129 - accuracy: 0.9963 - val_loss: 0.0529 - val_accuracy: 0.9852\n",
            "Epoch 14/20\n",
            "375/375 [==============================] - 2s 4ms/step - loss: 0.0110 - accuracy: 0.9971 - val_loss: 0.0560 - val_accuracy: 0.9856\n",
            "Epoch 15/20\n",
            "375/375 [==============================] - 2s 4ms/step - loss: 0.0094 - accuracy: 0.9975 - val_loss: 0.0579 - val_accuracy: 0.9855\n",
            "Epoch 16/20\n",
            "375/375 [==============================] - 1s 4ms/step - loss: 0.0081 - accuracy: 0.9978 - val_loss: 0.0533 - val_accuracy: 0.9855\n",
            "Epoch 17/20\n",
            "375/375 [==============================] - 2s 5ms/step - loss: 0.0083 - accuracy: 0.9977 - val_loss: 0.0576 - val_accuracy: 0.9866\n",
            "Epoch 18/20\n",
            "375/375 [==============================] - 2s 5ms/step - loss: 0.0064 - accuracy: 0.9983 - val_loss: 0.0583 - val_accuracy: 0.9858\n",
            "Epoch 19/20\n",
            "375/375 [==============================] - 2s 4ms/step - loss: 0.0048 - accuracy: 0.9990 - val_loss: 0.0612 - val_accuracy: 0.9844\n",
            "Epoch 20/20\n",
            "375/375 [==============================] - 2s 4ms/step - loss: 0.0048 - accuracy: 0.9988 - val_loss: 0.0618 - val_accuracy: 0.9850\n"
          ]
        }
      ],
      "source": [
        "history = model.fit(X_train_scaled, y_train_encoded, epochs=20, batch_size=128, validation_split = 0.2)\n"
      ]
    },
    {
      "cell_type": "markdown",
      "id": "45651f2d-5cc4-4896-8edc-f58b50fed605",
      "metadata": {
        "id": "45651f2d-5cc4-4896-8edc-f58b50fed605"
      },
      "source": [
        "#### 3.1 Model Evaluation on validation data"
      ]
    },
    {
      "cell_type": "markdown",
      "id": "eb4ea2f2-fcc8-4308-82f6-3dbd5857e989",
      "metadata": {
        "id": "eb4ea2f2-fcc8-4308-82f6-3dbd5857e989"
      },
      "source": [
        "# Plot the development of the training and validation loss, and training and validation metrics."
      ]
    },
    {
      "cell_type": "code",
      "execution_count": 78,
      "id": "841d1e30-e448-4b53-b3fc-9b97863391bb",
      "metadata": {
        "colab": {
          "base_uri": "https://localhost:8080/",
          "height": 419
        },
        "id": "841d1e30-e448-4b53-b3fc-9b97863391bb",
        "outputId": "4a2efb04-9be2-425c-fa22-f81244ac9f9c"
      },
      "outputs": [
        {
          "data": {
            "image/png": "[encoded data removed]",
            "text/plain": [
              "<Figure size 1200x400 with 2 Axes>"
            ]
          },
          "metadata": {},
          "output_type": "display_data"
        }
      ],
      "source": [
        "\n",
        "X_test = X_test.astype('float32') / 255.0\n",
        "y_test_encoded = to_categorical(y_test, num_classes=10)\n",
        "\n",
        "plt.figure(figsize=(12, 4))\n",
        "plt.subplot(1, 2, 1)\n",
        "plt.plot(history.history['loss'], label='training loss')\n",
        "plt.plot(history.history['val_loss'], label='validation loss')\n",
        "plt.xlabel('Epoch')\n",
        "plt.ylabel('Loss')\n",
        "plt.legend()\n",
        "plt.title('training,validation loss')\n",
        "\n",
        "plt.subplot(1, 2, 2)\n",
        "plt.plot(history.history['accuracy'], label='training accuracy')\n",
        "plt.plot(history.history['val_accuracy'], label='validation accuracy')\n",
        "plt.xlabel('Epoch')\n",
        "plt.ylabel('Accuracy')\n",
        "plt.legend()\n",
        "plt.title('training,validation accuracy')\n",
        "\n",
        "plt.show()"
      ]
    },
    {
      "cell_type": "markdown",
      "id": "22cd86fb-6b4c-4299-a077-fec0ab62464c",
      "metadata": {
        "id": "22cd86fb-6b4c-4299-a077-fec0ab62464c"
      },
      "source": [
        "### 4. Model evaluation"
      ]
    },
    {
      "cell_type": "markdown",
      "id": "9d93b7ad-3416-451d-8762-968f4cf1dd13",
      "metadata": {
        "id": "9d93b7ad-3416-451d-8762-968f4cf1dd13"
      },
      "source": [
        "*Evaluate* the model on the testing dataset using the relevant metrics. Use the confusion metrics as the one of the metrics."
      ]
    },
    {
      "cell_type": "code",
      "execution_count": 79,
      "id": "8134b757-aca1-4a0d-a0d2-3a3d0daa8d38",
      "metadata": {
        "colab": {
          "base_uri": "https://localhost:8080/"
        },
        "id": "8134b757-aca1-4a0d-a0d2-3a3d0daa8d38",
        "outputId": "aefd98b6-983d-45f7-8ce3-9089d10d53c8"
      },
      "outputs": [
        {
          "name": "stdout",
          "output_type": "stream",
          "text": [
            "313/313 [==============================] - 1s 4ms/step\n",
            "Accuracy: 0.9881\n",
            "Confusion Matrix:\n",
            "[[ 972    0    1    0    0    1    1    1    4    0]\n",
            " [   0 1132    0    1    0    0    0    1    1    0]\n",
            " [   2    3 1009    2    2    0    1    6    7    0]\n",
            " [   0    0    2 1000    0    4    0    0    3    1]\n",
            " [   0    0    0    0  978    0    0    0    1    3]\n",
            " [   2    0    0    7    0  881    1    1    0    0]\n",
            " [   6    2    0    0    6    4  936    0    4    0]\n",
            " [   0    1    5    1    0    0    0 1020    1    0]\n",
            " [   3    0    1    1    0    0    0    2  966    1]\n",
            " [   1    1    0    2   10    4    0    4    0  987]]\n",
            "Classification Report:\n",
            "              precision    recall  f1-score   support\n",
            "\n",
            "           0       0.99      0.99      0.99       980\n",
            "           1       0.99      1.00      1.00      1135\n",
            "           2       0.99      0.98      0.98      1032\n",
            "           3       0.99      0.99      0.99      1010\n",
            "           4       0.98      1.00      0.99       982\n",
            "           5       0.99      0.99      0.99       892\n",
            "           6       1.00      0.98      0.99       958\n",
            "           7       0.99      0.99      0.99      1028\n",
            "           8       0.98      0.99      0.99       974\n",
            "           9       0.99      0.98      0.99      1009\n",
            "\n",
            "    accuracy                           0.99     10000\n",
            "   macro avg       0.99      0.99      0.99     10000\n",
            "weighted avg       0.99      0.99      0.99     10000\n",
            "\n"
          ]
        }
      ],
      "source": [
        "\n",
        "\n",
        "\n",
        "y_pred = model.predict(X_test)\n",
        "\n",
        "y_pred_labels = np.argmax(y_pred, axis=1)\n",
        "y_test_labels = np.argmax(y_test_encoded, axis=1)\n",
        "\n",
        "accuracy = accuracy_score(y_test_labels, y_pred_labels)\n",
        "print(\"Accuracy:\", accuracy)\n",
        "\n",
        "cm = confusion_matrix(y_test_labels, y_pred_labels)\n",
        "print(\"Confusion Matrix:\")\n",
        "print(cm)\n",
        "\n",
        "report = classification_report(y_test_labels, y_pred_labels)\n",
        "print(\"Classification Report:\")\n",
        "print(report)"
      ]
    },
    {
      "cell_type": "markdown",
      "id": "44a3f72d-1d76-4d98-9f03-1f8293ed6ad6",
      "metadata": {
        "id": "44a3f72d-1d76-4d98-9f03-1f8293ed6ad6"
      },
      "source": [
        "### 5. Hyperparameter tunning and regularization techniques"
      ]
    },
    {
      "cell_type": "markdown",
      "id": "e6140057-ce25-4e97-ae7b-81a47a30bebc",
      "metadata": {
        "id": "e6140057-ce25-4e97-ae7b-81a47a30bebc"
      },
      "source": [
        "When your code is ready and fully functional, try several changes in the hyperparameters and see how they influence the testing metrics. Try changes in the network structure. You can also try adding regularization techniques such as L1, L2, and Dropout. Based on the development of training and validation loss, try to identify overfitting and avoid it"
      ]
    },
    {
      "cell_type": "code",
      "execution_count": null,
      "id": "f1f4b10b-7487-45f4-8702-267715e4041c",
      "metadata": {
        "id": "f1f4b10b-7487-45f4-8702-267715e4041c"
      },
      "outputs": [],
      "source": []
    }
  ],
  "metadata": {
    "accelerator": "GPU",
    "colab": {
      "gpuType": "T4",
      "provenance": []
    },
    "kernelspec": {
      "display_name": "Python 3",
      "name": "python3"
    },
    "language_info": {
      "codemirror_mode": {
        "name": "ipython",
        "version": 3
      },
      "file_extension": ".py",
      "mimetype": "text/x-python",
      "name": "python",
      "nbconvert_exporter": "python",
      "pygments_lexer": "ipython3",
      "version": "3.10.12"
    }
  },
  "nbformat": 4,
  "nbformat_minor": 5
}
