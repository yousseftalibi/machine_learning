{
  "cells": [
    {
      "cell_type": "markdown",
      "metadata": {
        "id": "z2Jdst0Khkeh"
      },
      "source": [
        "# Exercise 1"
      ]
    },
    {
      "cell_type": "markdown",
      "metadata": {
        "id": "MrmhBjvq7Dah"
      },
      "source": [
        "## Exercise 1.1"
      ]
    },
    {
      "cell_type": "markdown",
      "metadata": {
        "id": "4mKrJYuxiFmd"
      },
      "source": [
        "write a code that prints the following pattern. Try to use as few loops as possible.\n",
        "\n",
        "![image.png](data:image/png;base64,iVBORw0KGgoAAAANSUhEUgAAAE8AAACwCAYAAABO8DNKAAAEBElEQVR4nO2csXGrQBRF7/5xEVYnUuYOIFTo0CX8DqAEdwChS3CGOkFd7A+QJbSgP4a7gt3lnhkHZiSzPoCkdzSDsdZaiFn8WXsBMSN5BHfyznUOY3LU597GUzncJjqsQ1PAIqts2/1mC8AWjfsoYa21xlr3DeOE0hyAxuLt2+CABvbvfp0jGzgvw017vFcZdgcDIEPVStxDxk/I7nKFrtf/MiqvKWCB7kf+HjOU1xQWyGzV/kgsrPyN48hrbZX1L9fu8s2qdvGFxcCdvNEzrSl0+T5g5KOK+C0azwgkj0DyCCSPQPIIJI9A8ggkj0DyCDxm+BNKY2DKU/8vos7dbQnhzmtUhm8rm/Ue31ZZ72+lh/cMf65z7Ooj2k/gY1fj2H7h+Or5iIfCmNG2yi4xtOt607hU6A2U6Kdk+E7+HPFx4T/DX173ACT9emet9wzfK9EXiSlXaL8Zvife2p/LN93vQPxl+NEz7XIwEr18leEJNJ4RSB6B5BFIHoHkEUgegeQRSB6B5BEEk+FPpYExJe6eXeeDbUHhzmvrZXgnSrSVzQJvgiM97yasKaYH0auwOf/89TmdyNBzVnAZ/hZiw09Z4WX4iCJqYBn+8ro3+6xflqAy/K08xxFRA8rwzr6cd+4QCSTDjz8u9K8wleEJNJ4RSB6B5BFIHoHkEUgegeQRSB6B5BGkkeHPNXJjkN8vHOVgm2fceS3aDO9EiTkVfCpJZfjreptikRKdVobvhdglSnRyGX7J25mkleEv7XHuWT+VhDJ8r0QvdDuTZDK8u6/7Tw3PIY0MP7rG599MTBmeQOMZgeQRSB6B5BFIHoHkEUgegeQRSB6BMjyz7uGYuMEMP3PdyvDEupXhb3uevG5l+LtdT1u3Mvx119PXrQxPrFsZnli3MjyxbmV4Ao1nBJJHIHkEkkcgeQSSRyB5BJJHIHkEyvAMwzFxgxl+JsrwBMrwBMrwBMrwBMrwBMrwBMrwBMrwBBrPCCSPQPIIJI9A8ggkj0DyCCSPQPII0sjwazEcEyPN8CuQVIZfmrQy/MIkl+GXJK0MvzAJZfjlSSbDr0EaGX4llOEJNJ4RSB6B5BFIHoHkEUgegeQRSB6B5BEEk+GjxJ3X1svw8TEy255QmgPQWLx9GxzQwP7d//pgnOscu/qI9hP42NU4tl84vno+4qEwZnTNDB8T4WX4iAgsw8dFUBk+NgLK8PERSIaPE2V4Ao1nBJJHIHkEkkcgeQSSRyB5BJJHIHkEHjP8BnHnNSrDbwzvGX5LvAw37fFeZdgdDIAMVStxDxk/IZ9/c4MU8J/hN4TnDL8t/Gb4jeEvw28QZXgCjWcEkkcgeQSSRyB5BJJHIHkEkkcgeQSSRyB5BP8A6GfFYXaAVpYAAAAASUVORK5CYII=)\n",
        "\n",
        "Avoid using trivial solutions like:\n",
        "\n",
        "print('X')\n",
        "\n",
        "print('X X')\n",
        "\n",
        "print('X X X')\n",
        "\n",
        ".....\n",
        "\n",
        "print('X X X')\n",
        "\n",
        "print('X X')\n",
        "\n",
        "print('X')\n"
      ]
    },
    {
      "cell_type": "code",
      "source": [
        "max_width = 5\n",
        "\n",
        "for i in range(1, max_width + 1):\n",
        "    print(' '.join('X' for _ in range(i)))\n",
        "\n",
        "for i in range(max_width - 1, 0, -1):\n",
        "    print(' '.join('X' for _ in range(i)))"
      ],
      "metadata": {
        "colab": {
          "base_uri": "https://localhost:8080/"
        },
        "id": "2szoAKKk7JrR",
        "outputId": "ddbe5f78-f014-4ca0-f24f-c99664134237"
      },
      "execution_count": 4,
      "outputs": [
        {
          "output_type": "stream",
          "name": "stdout",
          "text": [
            "X\n",
            "X X\n",
            "X X X\n",
            "X X X X\n",
            "X X X X X\n",
            "X X X X\n",
            "X X X\n",
            "X X\n",
            "X\n"
          ]
        }
      ]
    },
    {
      "cell_type": "markdown",
      "metadata": {
        "id": "nOAWuH8qp79q"
      },
      "source": [
        "## Exercise 1.2"
      ]
    },
    {
      "cell_type": "markdown",
      "metadata": {
        "id": "Zz2j3lx6qH2K"
      },
      "source": [
        "Write a script that will sum all numbers in the following string. You can split each number into single digits, so for example, you can consider 45 to be 4 and 5"
      ]
    },
    {
      "cell_type": "code",
      "execution_count": 6,
      "metadata": {
        "id": "15fJxcCsqBH7",
        "colab": {
          "base_uri": "https://localhost:8080/"
        },
        "outputId": "c1a2c709-8784-4c87-b163-805211cc35ad"
      },
      "outputs": [
        {
          "output_type": "stream",
          "name": "stdout",
          "text": [
            "the sum is: 34\n"
          ]
        }
      ],
      "source": [
        "input_str = \"n45as29@#8ss6\"\n",
        "\n",
        "total_sum = 0\n",
        "\n",
        "for char in input_str:\n",
        "    if char.isdigit():\n",
        "        total_sum += int(char)\n",
        "\n",
        "print(f\"the sum is: {total_sum}\")"
      ]
    },
    {
      "cell_type": "markdown",
      "metadata": {
        "id": "NjNQc3AXMPmi"
      },
      "source": [
        "## Exercise 1.3"
      ]
    },
    {
      "cell_type": "markdown",
      "metadata": {
        "id": "-algCktYMZ4Q"
      },
      "source": [
        "Write a script that will convert an arbitrary integer to a binary number (the number will be represented as a string with only *0* and *1*). Avoid using the *bin()* function or any other pythons default functions"
      ]
    },
    {
      "cell_type": "code",
      "source": [
        "def int_to_binary(number):\n",
        "    if number == 0:\n",
        "        return '0'\n",
        "    binary_digits = []\n",
        "    while number > 0:\n",
        "        remainder = number % 2\n",
        "        binary_digits.append(str(remainder))\n",
        "        number = number // 2\n",
        "    binary_digits.reverse()\n",
        "    return ''.join(binary_digits)\n",
        "\n",
        "input_number = 45\n",
        "binary_string = int_to_binary(input_number)\n",
        "print(f\"binary of {input_number} is: {binary_string}\")"
      ],
      "metadata": {
        "colab": {
          "base_uri": "https://localhost:8080/"
        },
        "id": "EqPuo9id8Cub",
        "outputId": "94608ad0-7f2f-4cc9-e76f-306e3cb804bc"
      },
      "execution_count": 7,
      "outputs": [
        {
          "output_type": "stream",
          "name": "stdout",
          "text": [
            "binary of 45 is: 101101\n"
          ]
        }
      ]
    },
    {
      "cell_type": "markdown",
      "metadata": {
        "id": "pCSSAjAj0ZlY"
      },
      "source": [
        "## Exercise 1.4 - The Fibonacci Sequence:"
      ]
    },
    {
      "cell_type": "markdown",
      "metadata": {
        "id": "JPgVzgDG1pwt"
      },
      "source": [
        "# The Fibonacci Sequence is a series of numbers. The next number is found by adding up the two numbers before it. The first two numbers are 0 and 1. For example, 0, 1, 1, 2, 3, 5, 8, 13. The next number in this series above is 8 + 13 = 21"
      ]
    },
    {
      "cell_type": "markdown",
      "metadata": {
        "id": "uEHzKT7k1sfr"
      },
      "source": [
        "\n",
        "\n",
        "Create a function that takes an integer as an input and returns a list that contains all Fibonacci numbers smaller than the input integer\n",
        "\n",
        "example:\n",
        "\n",
        "*print(fibonaci(10))*\n",
        "\n",
        "[0, 1, 1, 2, 3, 5, 8]\n"
      ]
    },
    {
      "cell_type": "code",
      "execution_count": 8,
      "metadata": {
        "id": "Lu9nP9hG2VzU",
        "colab": {
          "base_uri": "https://localhost:8080/"
        },
        "outputId": "193b7240-1359-479c-9bd2-f0120d245a07"
      },
      "outputs": [
        {
          "output_type": "stream",
          "name": "stdout",
          "text": [
            "[0, 1, 1, 2, 3, 5]\n"
          ]
        }
      ],
      "source": [
        "def fibonacci(upper_threshold: int) -> list:\n",
        "    if upper_threshold <= 0:\n",
        "        return []\n",
        "\n",
        "    fib_sequence = [0, 1]\n",
        "    while True:\n",
        "        next_fib = fib_sequence[-1] + fib_sequence[-2]\n",
        "        if next_fib < upper_threshold:\n",
        "            fib_sequence.append(next_fib)\n",
        "        else:\n",
        "            break\n",
        "    return fib_sequence[:-1]\n",
        "\n",
        "print(fibonacci(10))"
      ]
    },
    {
      "cell_type": "markdown",
      "metadata": {
        "id": "eVT1qWQGgXm2"
      },
      "source": [
        "## Exercise 1.5. -  Rock, Paper, Scissors game:"
      ]
    },
    {
      "cell_type": "markdown",
      "metadata": {
        "id": "aLR9kHeN7Daj"
      },
      "source": [
        "#### basic"
      ]
    },
    {
      "cell_type": "markdown",
      "metadata": {
        "id": "3xuY5Ljk7Dak"
      },
      "source": [
        "Rock, Paper, Scissors is a well-known and simple game. If you do not know the rules, google them. Our task will be to write a code for this game when the user plays against a random computer. The code can be written into one function *rock_paper_scissors*.\n",
        "\n",
        "Notes:\n",
        "- This implementation uses the **random** library to enable the computer to make a random choice.\n",
        "- Keyword **Input** may be useful, check it\n",
        "- After the function is run, the program will ask you about your movement, which you type in\n",
        "- The game is case-insensitive for user input (e.g., \"rock\", \"Rock\", and \"ROCK\" are all valid).\n",
        "- This script plays one round of the game.\n",
        "- The script prints the result ('You lose', 'You win', 'It is a tie')\n"
      ]
    },
    {
      "cell_type": "code",
      "execution_count": 9,
      "metadata": {
        "colab": {
          "base_uri": "https://localhost:8080/"
        },
        "id": "hA5Xgvdx7Dak",
        "outputId": "ed4a7c34-e9c4-40b8-c423-ee4bf5e034a2"
      },
      "outputs": [
        {
          "output_type": "stream",
          "name": "stdout",
          "text": [
            "choose rock, paper, scissors : rock\n",
            "computer chose: paper\n",
            "you lose\n"
          ]
        }
      ],
      "source": [
        "import random\n",
        "\n",
        "def rock_paper_scissors() -> None:\n",
        "    choices = ['rock', 'paper', 'scissors']\n",
        "\n",
        "    computer_choice = random.choice(choices)\n",
        "\n",
        "    user_choice = input(\"choose rock, paper, scissors : \").lower()\n",
        "\n",
        "    if user_choice not in choices:\n",
        "        print(\"invalid choice\")\n",
        "        return\n",
        "\n",
        "    print(f\"computer chose: {computer_choice}\")\n",
        "    if user_choice == computer_choice:\n",
        "        print(\"tie\")\n",
        "    elif (user_choice == \"rock\" and computer_choice == \"scissors\") or \\\n",
        "         (user_choice == \"paper\" and computer_choice == \"rock\") or \\\n",
        "         (user_choice == \"scissors\" and computer_choice == \"paper\"):\n",
        "        print(\"you win\")\n",
        "    else:\n",
        "        print(\"you lose\")\n",
        "\n",
        "rock_paper_scissors()"
      ]
    },
    {
      "cell_type": "markdown",
      "metadata": {
        "id": "nMTA3nRE7Dak"
      },
      "source": [
        "#### Advanced"
      ]
    },
    {
      "cell_type": "markdown",
      "metadata": {
        "id": "EKHQ82Pm7Dak"
      },
      "source": [
        "Extend the Rock, Paper, Scissors game to be able to play *n* rounds.\n",
        "\n",
        "Notes:\n",
        "- The scrips will contain two counters, one for the current use score and one for the current computer score.\n",
        "- After each run, the script prints the current scores and current round.\n",
        "- When the number of rounds is reached, the script prints the result ('You lose', 'You win', 'It is a tie')"
      ]
    },
    {
      "cell_type": "code",
      "source": [
        "import random\n",
        "\n",
        "def rock_paper_scissors(n: int) -> None:\n",
        "    choices = ['rock', 'paper', 'scissors']\n",
        "\n",
        "    user_score = 0\n",
        "    computer_score = 0\n",
        "\n",
        "    for round in range(1, n + 1):\n",
        "        print(f\"round {round} of {n}\")\n",
        "\n",
        "        computer_choice = random.choice(choices)\n",
        "\n",
        "        user_choice = input(\"choose rock, paper, scissors : \").lower()\n",
        "\n",
        "        if user_choice not in choices:\n",
        "            print(\"invalid choice\")\n",
        "            continue\n",
        "\n",
        "        print(f\"computer chose: {computer_choice}\")\n",
        "        if user_choice == computer_choice:\n",
        "            print(\"tie for this round\")\n",
        "        elif (user_choice == \"rock\" and computer_choice == \"scissors\") or \\\n",
        "             (user_choice == \"paper\" and computer_choice == \"rock\") or \\\n",
        "             (user_choice == \"scissors\" and computer_choice == \"paper\"):\n",
        "            print(\"you win this round\")\n",
        "            user_score += 1\n",
        "        else:\n",
        "            print(\"you lose this round\")\n",
        "            computer_score += 1\n",
        "\n",
        "        print(f\"current scores - you: {user_score}, computer: {computer_score}\")\n",
        "\n",
        "    if user_score > computer_score:\n",
        "        print(\"you win\")\n",
        "    elif user_score < computer_score:\n",
        "        print(\"you lose\")\n",
        "    else:\n",
        "        print(\"tie\")\n",
        "\n",
        "rounds_to_play = 3\n",
        "rock_paper_scissors(rounds_to_play)"
      ],
      "metadata": {
        "colab": {
          "base_uri": "https://localhost:8080/"
        },
        "id": "yl562TAE9RMT",
        "outputId": "b610c5ec-de79-4305-9594-a79ab3f462e3"
      },
      "execution_count": 10,
      "outputs": [
        {
          "output_type": "stream",
          "name": "stdout",
          "text": [
            "round 1 of 3\n",
            "choose rock, paper, scissors : paper\n",
            "computer chose: scissors\n",
            "you lose this round\n",
            "current scores - you: 0, computer: 1\n",
            "round 2 of 3\n",
            "choose rock, paper, scissors : rock\n",
            "computer chose: scissors\n",
            "you win this round\n",
            "current scores - you: 1, computer: 1\n",
            "round 3 of 3\n",
            "choose rock, paper, scissors : scissors\n",
            "computer chose: scissors\n",
            "tie for this round\n",
            "current scores - you: 1, computer: 1\n",
            "tie\n"
          ]
        }
      ]
    },
    {
      "cell_type": "markdown",
      "metadata": {
        "id": "Tu7yI05aT1y5"
      },
      "source": [
        "# Exercise 2"
      ]
    },
    {
      "cell_type": "markdown",
      "metadata": {
        "id": "7GaHLE8Zh8aJ"
      },
      "source": [
        "## Exercise 2.1\n"
      ]
    },
    {
      "cell_type": "markdown",
      "metadata": {
        "id": "ZIyURJ6HZ5Rb"
      },
      "source": [
        "- Create a numpy array with shape 5x5, that contains numbers from 25..to 0\n",
        "- create a function that takes an arbitrary numpy array as an input and sets all numbers smaller than the user-defined threshold to 0\n",
        "- test your function on your array\n",
        "- make one implementation using loops and one without using loops, compare execution time with **time** library\n"
      ]
    },
    {
      "cell_type": "code",
      "source": [
        "import numpy as np\n",
        "import time\n",
        "\n",
        "arr = np.arange(25, 0, -1).reshape(5, 5)\n",
        "\n",
        "def threshold_with_loops(array, threshold):\n",
        "    result = array.copy()\n",
        "    for i in range(result.shape[0]):\n",
        "        for j in range(result.shape[1]):\n",
        "            if result[i, j] < threshold:\n",
        "                result[i, j] = 0\n",
        "    return result\n",
        "\n",
        "def threshold_without_loops(array, threshold):\n",
        "    result = array.copy()\n",
        "    result[result < threshold] = 0\n",
        "    return result\n",
        "\n",
        "threshold_value = 10\n",
        "\n",
        "start_time = time.time()\n",
        "result_with_loops = threshold_with_loops(arr, threshold_value)\n",
        "end_time = time.time()\n",
        "print(\"loops:\")\n",
        "print(result_with_loops)\n",
        "print(\"time_loops:\", f\"{end_time - start_time:.6f}\")\n",
        "print(\"\\n\")\n",
        "start_time = time.time()\n",
        "result_without_loops = threshold_without_loops(arr, threshold_value)\n",
        "end_time = time.time()\n",
        "print(\"no_loops:\")\n",
        "print(result_without_loops)\n",
        "print(\"time_no_loops:\", f\"{end_time - start_time:.6f}\")"
      ],
      "metadata": {
        "colab": {
          "base_uri": "https://localhost:8080/"
        },
        "id": "EQHso73w-AZk",
        "outputId": "d82ae21a-57bb-4e64-a362-352bb84247cf"
      },
      "execution_count": 12,
      "outputs": [
        {
          "output_type": "stream",
          "name": "stdout",
          "text": [
            "loops:\n",
            "[[25 24 23 22 21]\n",
            " [20 19 18 17 16]\n",
            " [15 14 13 12 11]\n",
            " [10  0  0  0  0]\n",
            " [ 0  0  0  0  0]]\n",
            "time_loops: 0.000345\n",
            "\n",
            "\n",
            "no_loops:\n",
            "[[25 24 23 22 21]\n",
            " [20 19 18 17 16]\n",
            " [15 14 13 12 11]\n",
            " [10  0  0  0  0]\n",
            " [ 0  0  0  0  0]]\n",
            "time_no_loops: 0.004142\n"
          ]
        }
      ]
    },
    {
      "cell_type": "markdown",
      "metadata": {
        "id": "tl_vFRrwiArx"
      },
      "source": [
        "## Exercise 2.2 - Digi display\n",
        "\n",
        "#### basic\n",
        "\n",
        "The task will be to create a simulation of Digi display that will be able to display an arbitrary integer\n",
        "   \n",
        "*hint: to show an image use the library matplotlib.pyplot, also you may find function np.concatenate usefull*"
      ]
    },
    {
      "cell_type": "code",
      "execution_count": null,
      "metadata": {
        "id": "ha5_BgE0mxoY"
      },
      "outputs": [],
      "source": [
        "def show_in_digi(input_integer: int) -> None:\n",
        "  pass"
      ]
    },
    {
      "cell_type": "code",
      "execution_count": null,
      "metadata": {
        "id": "fPxcDJbY7Dal"
      },
      "outputs": [],
      "source": [
        "import matplotlib.pyplot as plt"
      ]
    },
    {
      "cell_type": "markdown",
      "metadata": {
        "id": "pcOmCLI1muSr"
      },
      "source": [
        "show_in_digi(5289) will show:\n"
      ]
    },
    {
      "cell_type": "markdown",
      "metadata": {
        "id": "aHN2vh9dm-S5"
      },
      "source": [
        "![image.png](data:image/png;base64,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)"
      ]
    },
    {
      "cell_type": "markdown",
      "metadata": {
        "id": "9zNOQ_g07Dal"
      },
      "source": [
        "*hint2: you may find the following dict usefull*"
      ]
    },
    {
      "cell_type": "code",
      "execution_count": 13,
      "metadata": {
        "colab": {
          "base_uri": "https://localhost:8080/",
          "height": 202
        },
        "id": "b2Cqs9LP7Dal",
        "outputId": "1d4b4311-ef17-444b-88cb-d2476b40bd12"
      },
      "outputs": [
        {
          "output_type": "display_data",
          "data": {
            "text/plain": [
              "<Figure size 640x480 with 1 Axes>"
            ],
            "image/png": "[encoded data removed]"
          },
          "metadata": {}
        }
      ],
      "source": [
        "import numpy as np\n",
        "import matplotlib.pyplot as plt\n",
        "\n",
        "numbs = {\n",
        "    \"1\": np.array([[0, 1, 1], [1, 0, 1], [0, 0, 1], [0, 0, 1], [0, 0, 1]]),\n",
        "    \"2\": np.array([[1, 1, 1], [0, 0, 1], [1, 1, 1], [1, 0, 0], [1, 1, 1]]),\n",
        "    \"3\": np.array([[1, 1, 1], [0, 0, 1], [1, 1, 1], [0, 0, 1], [1, 1, 1]]),\n",
        "    \"4\": np.array([[1, 0, 1], [1, 0, 1], [1, 1, 1], [0, 0, 1], [0, 0, 1]]),\n",
        "    \"5\": np.array([[1, 1, 1], [1, 0, 0], [1, 1, 1], [0, 0, 1], [1, 1, 1]]),\n",
        "    \"6\": np.array([[1, 1, 1], [1, 0, 0], [1, 1, 1], [1, 0, 1], [1, 1, 1]]),\n",
        "    \"7\": np.array([[1, 1, 1], [0, 0, 1], [0, 0, 1], [0, 0, 1], [0, 0, 1]]),\n",
        "    \"8\": np.array([[1, 1, 1], [1, 0, 1], [1, 1, 1], [1, 0, 1], [1, 1, 1]]),\n",
        "    \"9\": np.array([[1, 1, 1], [1, 0, 1], [1, 1, 1], [0, 0, 1], [1, 1, 1]]),\n",
        "    \"0\": np.array([[1, 1, 1], [1, 0, 1], [1, 0, 1], [1, 0, 1], [1, 1, 1]]),\n",
        "}\n",
        "\n",
        "def show_in_digi(input_integer: int) -> None:\n",
        "    digits = str(input_integer)\n",
        "    digi_display = np.zeros((5, 0), dtype=int)\n",
        "    for digit in digits:\n",
        "        if digi_display.size != 0:\n",
        "            digi_display = np.concatenate((digi_display, np.zeros((5, 1), dtype=int)), axis=1)\n",
        "        digi_display = np.concatenate((digi_display, numbs[digit]), axis=1)\n",
        "    plt.imshow(digi_display, cmap=\"binary\")\n",
        "    plt.axis('off')\n",
        "    plt.show()\n",
        "\n",
        "show_in_digi(5289)"
      ]
    },
    {
      "cell_type": "markdown",
      "metadata": {
        "id": "8qHlHkhK7Dal"
      },
      "source": [
        "#### advanced"
      ]
    },
    {
      "cell_type": "markdown",
      "metadata": {
        "id": "CVipLd0z7Dal"
      },
      "source": [
        "Extend your *show_in_digi* function to be able to display an arbitary float number"
      ]
    },
    {
      "cell_type": "code",
      "source": [
        "import numpy as np\n",
        "import matplotlib.pyplot as plt\n",
        "\n",
        "numbs = {\n",
        "    \"1\": np.array([[0, 1, 1], [1, 0, 1], [0, 0, 1], [0, 0, 1], [0, 0, 1]]),\n",
        "    \"2\": np.array([[1, 1, 1], [0, 0, 1], [1, 1, 1], [1, 0, 0], [1, 1, 1]]),\n",
        "    \"3\": np.array([[1, 1, 1], [0, 0, 1], [1, 1, 1], [0, 0, 1], [1, 1, 1]]),\n",
        "    \"4\": np.array([[1, 0, 1], [1, 0, 1], [1, 1, 1], [0, 0, 1], [0, 0, 1]]),\n",
        "    \"5\": np.array([[1, 1, 1], [1, 0, 0], [1, 1, 1], [0, 0, 1], [1, 1, 1]]),\n",
        "    \"6\": np.array([[1, 1, 1], [1, 0, 0], [1, 1, 1], [1, 0, 1], [1, 1, 1]]),\n",
        "    \"7\": np.array([[1, 1, 1], [0, 0, 1], [0, 0, 1], [0, 0, 1], [0, 0, 1]]),\n",
        "    \"8\": np.array([[1, 1, 1], [1, 0, 1], [1, 1, 1], [1, 0, 1], [1, 1, 1]]),\n",
        "    \"9\": np.array([[1, 1, 1], [1, 0, 1], [1, 1, 1], [0, 0, 1], [1, 1, 1]]),\n",
        "    \"0\": np.array([[1, 1, 1], [1, 0, 1], [1, 0, 1], [1, 0, 1], [1, 1, 1]]),\n",
        "    \".\": np.array([[0, 0, 0], [0, 0, 0], [0, 0, 0], [0, 0, 0], [1, 1, 1]]),\n",
        "}\n",
        "\n",
        "def show_in_digi(input_number: float) -> None:\n",
        "    number_str = str(input_number)\n",
        "    digi_display = np.zeros((5, 0), dtype=int)\n",
        "    for char in number_str:\n",
        "        if digi_display.size != 0:\n",
        "            digi_display = np.concatenate((digi_display, np.zeros((5, 1), dtype=int)), axis=1)\n",
        "        digi_display = np.concatenate((digi_display, numbs[char]), axis=1)\n",
        "    plt.imshow(digi_display, cmap=\"binary\")\n",
        "    plt.axis('off')\n",
        "    plt.show()\n",
        "\n",
        "show_in_digi(52.89)"
      ],
      "metadata": {
        "colab": {
          "base_uri": "https://localhost:8080/",
          "height": 167
        },
        "id": "dfMpyAHA_Sfl",
        "outputId": "f3fd1b37-6f76-4300-c654-4dd4cf2dea90"
      },
      "execution_count": 14,
      "outputs": [
        {
          "output_type": "display_data",
          "data": {
            "text/plain": [
              "<Figure size 640x480 with 1 Axes>"
            ],
            "image/png": "[encoded data removed]"
          },
          "metadata": {}
        }
      ]
    },
    {
      "cell_type": "markdown",
      "metadata": {
        "id": "6s8LqeO6fuS1"
      },
      "source": [
        "# Exercise 3 - Playing with California Housing Dataset"
      ]
    },
    {
      "cell_type": "markdown",
      "metadata": {
        "id": "9MV_c3_3f9V0"
      },
      "source": [
        "The purpose of this exercise is to learn basic operations of **pandas** library. Use *california_housing_dataset* you can find in google colab to do following operations:"
      ]
    },
    {
      "cell_type": "markdown",
      "metadata": {
        "id": "ZctJOSglgYjc"
      },
      "source": [
        "- check what *dataset.describe()* does"
      ]
    },
    {
      "cell_type": "markdown",
      "metadata": {
        "id": "ANvmvaQzpp2k"
      },
      "source": [
        "- display all rows where *total_bedrooms* column is bigger than 310"
      ]
    },
    {
      "cell_type": "markdown",
      "metadata": {
        "id": "AJnkbsLDpcrh"
      },
      "source": [
        "- drop also first and last row"
      ]
    },
    {
      "cell_type": "markdown",
      "metadata": {
        "id": "jjj3NIPGheCC"
      },
      "source": [
        "- save a mean of values in *households* columns to variable, using *matplotlib* display number of households in the graph (x-axis would be ID, y-axis - numbers of households) as dots with the same color, display also mean as a single line in the graph with different color as dots is"
      ]
    },
    {
      "cell_type": "markdown",
      "metadata": {
        "id": "Ga-8a7TFgFDT"
      },
      "source": [
        " - check if any of the columns contain NaN values, if yes, replace the NaN values with the arithmetic mean of the whole dataset"
      ]
    },
    {
      "cell_type": "markdown",
      "metadata": {
        "id": "L6_0MzSRqYK9"
      },
      "source": [
        " - display *lat* and *long* into plot, *lat* would be on *x* axis and *long* on *y* axis"
      ]
    },
    {
      "cell_type": "markdown",
      "metadata": {
        "id": "Eba6rEqcixWl"
      },
      "source": [
        "- choose two arbitrary columns and normalize all values inside using *min-max normalization*:"
      ]
    },
    {
      "cell_type": "markdown",
      "metadata": {
        "id": "nZ5hAWKlpVKK"
      },
      "source": [
        "- Create a Correlation Matrix from all columns"
      ]
    },
    {
      "cell_type": "code",
      "execution_count": 16,
      "metadata": {
        "colab": {
          "base_uri": "https://localhost:8080/",
          "height": 1000
        },
        "id": "VExHwB9V7Dan",
        "outputId": "f9ae746e-14dc-4b6f-9fcd-ec469a6ab7f4"
      },
      "outputs": [
        {
          "output_type": "stream",
          "name": "stdout",
          "text": [
            "          longitude      latitude  housing_median_age   total_rooms  \\\n",
            "count  17000.000000  17000.000000        17000.000000  17000.000000   \n",
            "mean    -119.562108     35.625225           28.589353   2643.664412   \n",
            "std        2.005166      2.137340           12.586937   2179.947071   \n",
            "min     -124.350000     32.540000            1.000000      2.000000   \n",
            "25%     -121.790000     33.930000           18.000000   1462.000000   \n",
            "50%     -118.490000     34.250000           29.000000   2127.000000   \n",
            "75%     -118.000000     37.720000           37.000000   3151.250000   \n",
            "max     -114.310000     41.950000           52.000000  37937.000000   \n",
            "\n",
            "       total_bedrooms    population    households  median_income  \\\n",
            "count    17000.000000  17000.000000  17000.000000   17000.000000   \n",
            "mean       539.410824   1429.573941    501.221941       3.883578   \n",
            "std        421.499452   1147.852959    384.520841       1.908157   \n",
            "min          1.000000      3.000000      1.000000       0.499900   \n",
            "25%        297.000000    790.000000    282.000000       2.566375   \n",
            "50%        434.000000   1167.000000    409.000000       3.544600   \n",
            "75%        648.250000   1721.000000    605.250000       4.767000   \n",
            "max       6445.000000  35682.000000   6082.000000      15.000100   \n",
            "\n",
            "       median_house_value  \n",
            "count        17000.000000  \n",
            "mean        207300.912353  \n",
            "std         115983.764387  \n",
            "min          14999.000000  \n",
            "25%         119400.000000  \n",
            "50%         180400.000000  \n",
            "75%         265000.000000  \n",
            "max         500001.000000  \n",
            "       longitude  latitude  housing_median_age  total_rooms  total_bedrooms  \\\n",
            "0        -114.31     34.19                15.0       5612.0          1283.0   \n",
            "1        -114.47     34.40                19.0       7650.0          1901.0   \n",
            "3        -114.57     33.64                14.0       1501.0           337.0   \n",
            "4        -114.57     33.57                20.0       1454.0           326.0   \n",
            "6        -114.58     33.61                25.0       2907.0           680.0   \n",
            "...          ...       ...                 ...          ...             ...   \n",
            "16994    -124.25     40.28                32.0       1430.0           419.0   \n",
            "16995    -124.26     40.58                52.0       2217.0           394.0   \n",
            "16996    -124.27     40.69                36.0       2349.0           528.0   \n",
            "16997    -124.30     41.84                17.0       2677.0           531.0   \n",
            "16998    -124.30     41.80                19.0       2672.0           552.0   \n",
            "\n",
            "       population  households  median_income  median_house_value  \n",
            "0          1015.0       472.0         1.4936             66900.0  \n",
            "1          1129.0       463.0         1.8200             80100.0  \n",
            "3           515.0       226.0         3.1917             73400.0  \n",
            "4           624.0       262.0         1.9250             65500.0  \n",
            "6          1841.0       633.0         2.6768             82400.0  \n",
            "...           ...         ...            ...                 ...  \n",
            "16994       434.0       187.0         1.9417             76100.0  \n",
            "16995       907.0       369.0         2.3571            111400.0  \n",
            "16996      1194.0       465.0         2.5179             79000.0  \n",
            "16997      1244.0       456.0         3.0313            103600.0  \n",
            "16998      1298.0       478.0         1.9797             85800.0  \n",
            "\n",
            "[12320 rows x 9 columns]\n",
            "       longitude  latitude  housing_median_age  total_rooms  total_bedrooms  \\\n",
            "1        -114.47     34.40                19.0       7650.0          1901.0   \n",
            "3        -114.57     33.64                14.0       1501.0           337.0   \n",
            "4        -114.57     33.57                20.0       1454.0           326.0   \n",
            "6        -114.58     33.61                25.0       2907.0           680.0   \n",
            "8        -114.59     33.61                34.0       4789.0          1175.0   \n",
            "...          ...       ...                 ...          ...             ...   \n",
            "16993    -124.23     40.54                52.0       2694.0           453.0   \n",
            "16994    -124.25     40.28                32.0       1430.0           419.0   \n",
            "16995    -124.26     40.58                52.0       2217.0           394.0   \n",
            "16996    -124.27     40.69                36.0       2349.0           528.0   \n",
            "16997    -124.30     41.84                17.0       2677.0           531.0   \n",
            "\n",
            "       population  households  median_income  median_house_value  \n",
            "1          1129.0       463.0         1.8200             80100.0  \n",
            "3           515.0       226.0         3.1917             73400.0  \n",
            "4           624.0       262.0         1.9250             65500.0  \n",
            "6          1841.0       633.0         2.6768             82400.0  \n",
            "8          3134.0      1056.0         2.1782             58400.0  \n",
            "...           ...         ...            ...                 ...  \n",
            "16993      1152.0       435.0         3.0806            106700.0  \n",
            "16994       434.0       187.0         1.9417             76100.0  \n",
            "16995       907.0       369.0         2.3571            111400.0  \n",
            "16996      1194.0       465.0         2.5179             79000.0  \n",
            "16997      1244.0       456.0         3.0313            103600.0  \n",
            "\n",
            "[12318 rows x 9 columns]\n"
          ]
        },
        {
          "output_type": "display_data",
          "data": {
            "text/plain": [
              "<Figure size 640x480 with 1 Axes>"
            ],
            "image/png": "[encoded data removed]"
          },
          "metadata": {}
        },
        {
          "output_type": "display_data",
          "data": {
            "text/plain": [
              "<Figure size 640x480 with 1 Axes>"
            ],
            "image/png": "[encoded data removed]"
          },
          "metadata": {}
        },
        {
          "output_type": "stream",
          "name": "stdout",
          "text": [
            "                         longitude  latitude  housing_median_age  total_rooms  \\\n",
            "longitude                 1.000000 -0.925208           -0.114250     0.047010   \n",
            "latitude                 -0.925208  1.000000            0.016454    -0.038773   \n",
            "housing_median_age       -0.114250  0.016454            1.000000    -0.360984   \n",
            "total_rooms               0.047010 -0.038773           -0.360984     1.000000   \n",
            "total_bedrooms            0.071802 -0.069373           -0.320434     0.928403   \n",
            "population                0.101674 -0.111261           -0.295890     0.860170   \n",
            "households                0.059628 -0.074902           -0.302754     0.919018   \n",
            "median_income            -0.015485 -0.080303           -0.115932     0.195383   \n",
            "median_house_value       -0.044982 -0.144917            0.106758     0.130991   \n",
            "housing_median_age_norm  -0.114250  0.016454            1.000000    -0.360984   \n",
            "median_income_norm       -0.015485 -0.080303           -0.115932     0.195383   \n",
            "\n",
            "                         total_bedrooms  population  households  \\\n",
            "longitude                      0.071802    0.101674    0.059628   \n",
            "latitude                      -0.069373   -0.111261   -0.074902   \n",
            "housing_median_age            -0.320434   -0.295890   -0.302754   \n",
            "total_rooms                    0.928403    0.860170    0.919018   \n",
            "total_bedrooms                 1.000000    0.881169    0.980920   \n",
            "population                     0.881169    1.000000    0.909247   \n",
            "households                     0.980920    0.909247    1.000000   \n",
            "median_income                 -0.013495   -0.000638    0.007644   \n",
            "median_house_value             0.045783   -0.027850    0.061031   \n",
            "housing_median_age_norm       -0.320434   -0.295890   -0.302754   \n",
            "median_income_norm            -0.013495   -0.000638    0.007644   \n",
            "\n",
            "                         median_income  median_house_value  \\\n",
            "longitude                    -0.015485           -0.044982   \n",
            "latitude                     -0.080303           -0.144917   \n",
            "housing_median_age           -0.115932            0.106758   \n",
            "total_rooms                   0.195383            0.130991   \n",
            "total_bedrooms               -0.013495            0.045783   \n",
            "population                   -0.000638           -0.027850   \n",
            "households                    0.007644            0.061031   \n",
            "median_income                 1.000000            0.691871   \n",
            "median_house_value            0.691871            1.000000   \n",
            "housing_median_age_norm      -0.115932            0.106758   \n",
            "median_income_norm            1.000000            0.691871   \n",
            "\n",
            "                         housing_median_age_norm  median_income_norm  \n",
            "longitude                              -0.114250           -0.015485  \n",
            "latitude                                0.016454           -0.080303  \n",
            "housing_median_age                      1.000000           -0.115932  \n",
            "total_rooms                            -0.360984            0.195383  \n",
            "total_bedrooms                         -0.320434           -0.013495  \n",
            "population                             -0.295890           -0.000638  \n",
            "households                             -0.302754            0.007644  \n",
            "median_income                          -0.115932            1.000000  \n",
            "median_house_value                      0.106758            0.691871  \n",
            "housing_median_age_norm                 1.000000           -0.115932  \n",
            "median_income_norm                     -0.115932            1.000000  \n"
          ]
        }
      ],
      "source": [
        "import pandas as pd\n",
        "\n",
        "california_housing_dataframe = pd.read_csv('sample_data/california_housing_train.csv')\n",
        "description = california_housing_dataframe.describe()\n",
        "print(description)\n",
        "\n",
        "bedrooms_filtered = california_housing_dataframe[california_housing_dataframe['total_bedrooms'] > 310]\n",
        "print(bedrooms_filtered)\n",
        "\n",
        "bedrooms_filtered_dropped = bedrooms_filtered.iloc[1:-1]\n",
        "print(bedrooms_filtered_dropped)\n",
        "\n",
        "\n",
        "import matplotlib.pyplot as plt\n",
        "\n",
        "households_mean = california_housing_dataframe['households'].mean()\n",
        "plt.scatter(california_housing_dataframe.index, california_housing_dataframe['households'], color='blue', label='Households')\n",
        "plt.axhline(y=households_mean, color='red', linestyle='-', label='Mean of Households')\n",
        "plt.xlabel('ID')\n",
        "plt.ylabel('Number of Households')\n",
        "plt.legend()\n",
        "plt.show()\n",
        "\n",
        "california_housing_dataframe = california_housing_dataframe.fillna(california_housing_dataframe.mean())\n",
        "\n",
        "\n",
        "plt.scatter(california_housing_dataframe['latitude'], california_housing_dataframe['longitude'])\n",
        "plt.xlabel('Latitude')\n",
        "plt.ylabel('Longitude')\n",
        "plt.show()\n",
        "\n",
        "def min_max_normalization(series):\n",
        "    return (series - series.min()) / (series.max() - series.min())\n",
        "\n",
        "california_housing_dataframe['housing_median_age_norm'] = min_max_normalization(california_housing_dataframe['housing_median_age'])\n",
        "california_housing_dataframe['median_income_norm'] = min_max_normalization(california_housing_dataframe['median_income'])\n",
        "\n",
        "correlation_matrix = california_housing_dataframe.corr()\n",
        "print(correlation_matrix)"
      ]
    }
  ],
  "metadata": {
    "colab": {
      "provenance": []
    },
    "kernelspec": {
      "display_name": "Python 3 (ipykernel)",
      "language": "python",
      "name": "python3"
    },
    "language_info": {
      "codemirror_mode": {
        "name": "ipython",
        "version": 3
      },
      "file_extension": ".py",
      "mimetype": "text/x-python",
      "name": "python",
      "nbconvert_exporter": "python",
      "pygments_lexer": "ipython3",
      "version": "3.10.12"
    }
  },
  "nbformat": 4,
  "nbformat_minor": 0
}